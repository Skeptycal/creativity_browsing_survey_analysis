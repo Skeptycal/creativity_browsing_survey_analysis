{
 "cells": [
  {
   "cell_type": "code",
   "execution_count": 2,
   "metadata": {
    "collapsed": false
   },
   "outputs": [
    {
     "data": {
      "text/plain": [
       "0"
      ]
     },
     "execution_count": 2,
     "metadata": {},
     "output_type": "execute_result"
    }
   ],
   "source": [
    "# noexport\n",
    "\n",
    "import os\n",
    "os.system('export_notebook leveldbmemoized.ipynb')"
   ]
  },
  {
   "cell_type": "code",
   "execution_count": 2,
   "metadata": {
    "collapsed": true
   },
   "outputs": [],
   "source": [
    "import leveldb\n",
    "import msgpack"
   ]
  },
  {
   "cell_type": "code",
   "execution_count": 3,
   "metadata": {
    "collapsed": true
   },
   "outputs": [],
   "source": [
    "leveldbmemoized_basedir = 'leveldb_memoized'\n",
    "\n",
    "def set_leveldbmemoized_basedir(basedir):\n",
    "  global leveldbmemoized_basedir\n",
    "  leveldbmemoized_basedir = basedir\n",
    "\n",
    "def get_leveldbmemoized_basedir(basedir):\n",
    "  return leveldbmemoized_basedir\n"
   ]
  },
  {
   "cell_type": "code",
   "execution_count": 12,
   "metadata": {
    "collapsed": true
   },
   "outputs": [],
   "source": [
    "class leveldbmemoized(object):\n",
    "  def __init__(self, f):\n",
    "    self.f = f\n",
    "    self.db = None\n",
    "  def __call__(self, arg):\n",
    "    if self.db == None:\n",
    "      filename = leveldbmemoized_basedir + '/' + self.f.__name__ + '.db'\n",
    "      self.db = leveldb.LevelDB(filename)\n",
    "    try:\n",
    "      return msgpack.loads(self.db.Get(str(arg)))\n",
    "    except KeyError:\n",
    "      result = self.f(arg)\n",
    "      self.db.Put(str(arg), msgpack.dumps(result))\n",
    "      return result\n"
   ]
  },
  {
   "cell_type": "code",
   "execution_count": 13,
   "metadata": {
    "collapsed": true
   },
   "outputs": [],
   "source": []
  }
 ],
 "metadata": {
  "kernelspec": {
   "display_name": "Python 2",
   "language": "python",
   "name": "python2"
  },
  "language_info": {
   "codemirror_mode": {
    "name": "ipython",
    "version": 2
   },
   "file_extension": ".py",
   "mimetype": "text/x-python",
   "name": "python",
   "nbconvert_exporter": "python",
   "pygments_lexer": "ipython2",
   "version": "2.7.11"
  }
 },
 "nbformat": 4,
 "nbformat_minor": 0
}
