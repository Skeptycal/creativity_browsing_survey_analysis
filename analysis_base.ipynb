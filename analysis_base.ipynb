{
 "cells": [
  {
   "cell_type": "code",
   "execution_count": 16,
   "metadata": {
    "collapsed": false
   },
   "outputs": [
    {
     "data": {
      "text/plain": [
       "0"
      ]
     },
     "execution_count": 16,
     "metadata": {},
     "output_type": "execute_result"
    }
   ],
   "source": [
    "# noexport\n",
    "\n",
    "import os\n",
    "os.system('export_notebook analysis_base.ipynb')"
   ]
  },
  {
   "cell_type": "code",
   "execution_count": 2,
   "metadata": {
    "collapsed": false
   },
   "outputs": [],
   "source": [
    "import urlparse\n",
    "from glob import glob\n",
    "import os\n",
    "from os import path\n",
    "\n",
    "from leveldbmemoized import leveldbmemoized, set_leveldbmemoized_basedir\n",
    "from msgpackmemoized import msgpackmemoized, set_msgpackmemoized_basedir\n",
    "\n",
    "from memoized import memoized\n",
    "import numpy\n",
    "import yaml\n",
    "\n",
    "from reconstruct_focus_times import ReconstructFocusTimesBaseline\n",
    "\n",
    "try:\n",
    "  import ujson as json\n",
    "except:\n",
    "  import json\n",
    "import msgpack\n",
    "\n",
    "from collections import Counter\n",
    "from operator import itemgetter\n",
    "\n",
    "import pyximport\n",
    "pyximport.install(setup_args={\"include_dirs\":numpy.get_include()})\n",
    "from decompress_lzstring_base64_cython import decompressFromBase64"
   ]
  },
  {
   "cell_type": "code",
   "execution_count": 3,
   "metadata": {
    "collapsed": true
   },
   "outputs": [],
   "source": [
    "tmi_basedir_override = None\n",
    "def set_tmi_basedir(basedir):\n",
    "  global tmi_basedir_override\n",
    "  tmi_basedir_override = basedir\n",
    "\n",
    "@memoized\n",
    "def get_basedir():\n",
    "  if tmi_basedir_override != None:\n",
    "    return tmi_basedir_override\n",
    "  pathbase = path.dirname(path.realpath('__file__'))\n",
    "  output = [x for x in glob(pathbase + '/browsingsurvey_*')]\n",
    "  output.sort(reverse=True)\n",
    "  return output[0]\n",
    "\n",
    "@memoized\n",
    "def get_sdir():\n",
    "  return get_basedir().replace('/browsingsurvey_', '/cached_')"
   ]
  },
  {
   "cell_type": "code",
   "execution_count": 4,
   "metadata": {
    "collapsed": false
   },
   "outputs": [],
   "source": [
    "if not path.exists(get_sdir()):\n",
    "  os.mkdir(get_sdir())\n",
    "set_leveldbmemoized_basedir(get_sdir())\n",
    "set_msgpackmemoized_basedir(get_sdir())"
   ]
  },
  {
   "cell_type": "code",
   "execution_count": 5,
   "metadata": {
    "collapsed": true
   },
   "outputs": [],
   "source": [
    "\n",
    "def get_basedir_file(filename):\n",
    "  return get_basedir() + '/' + filename\n",
    "\n",
    "def jsonload_basedir_file(filename):\n",
    "  return json.load(open(get_basedir_file(filename)))\n"
   ]
  },
  {
   "cell_type": "code",
   "execution_count": 6,
   "metadata": {
    "collapsed": true
   },
   "outputs": [],
   "source": [
    "def decompress_data_lzstring_base64(data):\n",
    "  data_type = type(data)\n",
    "  if data_type == unicode or data_type == str:\n",
    "    return json.loads(decompressFromBase64(data))\n",
    "  return data\n",
    "\n",
    "def uncompress_data_subfields(x):\n",
    "  if 'windows' in x:\n",
    "    data_type = type(x['windows'])\n",
    "    if data_type == unicode or data_type == str:\n",
    "      x['windows'] = json.loads(decompressFromBase64(x['windows']))\n",
    "  if 'data' in x:\n",
    "    data_type = type(x['data'])\n",
    "    if data_type == unicode or data_type == str:\n",
    "      x['data'] = json.loads(decompressFromBase64(x['data']))\n",
    "  return x\n",
    "\n",
    "@memoized\n",
    "def get_history_pages():\n",
    "  return [uncompress_data_subfields(x) for x in jsonload_basedir_file('history_pages.json')]\n",
    "\n",
    "@memoized\n",
    "def get_history_visits():\n",
    "  return [uncompress_data_subfields(x) for x in jsonload_basedir_file('history_visits.json')]\n",
    "\n",
    "@memoized\n",
    "def get_survey_results():\n",
    "  return jsonload_basedir_file('surveyresults.json')\n",
    "\n",
    "@memoized\n",
    "def get_user_to_hist_pages():\n",
    "  output = {}\n",
    "  for line in get_history_pages():\n",
    "    if 'user' not in line:\n",
    "      continue\n",
    "    user = line['user']\n",
    "    if user not in output:\n",
    "      output[user] = []\n",
    "    output[user].append(line)\n",
    "  return output\n",
    "\n",
    "@memoized\n",
    "def get_user_to_hist_visits():\n",
    "  output = {}\n",
    "  for line in get_history_visits():\n",
    "    if 'user' not in line:\n",
    "      continue\n",
    "    user = line['user']\n",
    "    if user not in output:\n",
    "      output[user] = []\n",
    "    output[user].append(line)\n",
    "  return output\n",
    "\n",
    "def iterate_hist_pages_for_user(user):\n",
    "  return get_user_to_hist_pages()[user]\n",
    "\n",
    "def iterate_hist_visits_for_user(user):\n",
    "  return get_user_to_hist_visits()[user]\n"
   ]
  },
  {
   "cell_type": "code",
   "execution_count": 7,
   "metadata": {
    "collapsed": false
   },
   "outputs": [],
   "source": [
    "@leveldbmemoized\n",
    "def get_history_valid_hids_for_user(user):\n",
    "  hid_with_history_pages = set()\n",
    "  hid_to_totalparts = {}\n",
    "  hid_to_seenparts = {}\n",
    "  hid_with_complete_history_visits = set()\n",
    "  for line in iterate_hist_pages_for_user(user):\n",
    "    hid = line['hid']\n",
    "    hid_with_history_pages.add(hid)\n",
    "  for line in iterate_hist_visits_for_user(user):\n",
    "    hid = line['hid']\n",
    "    totalparts = line['totalparts']\n",
    "    idx = line['idx']\n",
    "    if totalparts < 1:\n",
    "      raise 'have totalparts value less than one of ' + str(totalparts) + ' for user ' + user\n",
    "    if hid not in hid_to_totalparts:\n",
    "      hid_to_totalparts[hid] = totalparts\n",
    "    else:\n",
    "      if hid_to_totalparts[hid] != totalparts:\n",
    "        raise 'inconsistent totalparts for user ' + user + ' on hid ' + str(hid) + ' with values ' + str(totalparts) + ' and ' + str(hid_to_totalparts[hid])\n",
    "    if hid not in hid_to_seenparts:\n",
    "      hid_to_seenparts[hid] = set()\n",
    "    hid_to_seenparts[hid].add(idx)\n",
    "    num_parts_seen_so_far = len(hid_to_seenparts[hid])\n",
    "    if num_parts_seen_so_far > totalparts:\n",
    "      raise 'num parts seen so far ' + str(num_parts_seen_so_far) + ' is greater than totalparts ' + str(totalparts) + ' for user ' + user\n",
    "    if num_parts_seen_so_far == totalparts:\n",
    "      hid_with_complete_history_visits.add(hid)\n",
    "  output = [hid for hid in hid_with_complete_history_visits if hid in hid_with_history_pages]\n",
    "  output.sort()\n",
    "  return output"
   ]
  },
  {
   "cell_type": "code",
   "execution_count": 8,
   "metadata": {
    "collapsed": true
   },
   "outputs": [],
   "source": [
    "@leveldbmemoized\n",
    "def get_history_pages_for_user(user):\n",
    "  valid_hids = get_history_valid_hids_for_user(user)\n",
    "  if len(valid_hids) == 0:\n",
    "    return []\n",
    "  target_hid = max(valid_hids)\n",
    "  for line in iterate_hist_pages_for_user(user):\n",
    "    hid = line['hid']\n",
    "    if hid != target_hid:\n",
    "      continue\n",
    "    data = line['data']\n",
    "    return data\n",
    "  return []\n",
    "\n",
    "@leveldbmemoized\n",
    "def get_history_visits_for_user(user):\n",
    "  valid_hids = get_history_valid_hids_for_user(user)\n",
    "  if len(valid_hids) == 0:\n",
    "    return {}\n",
    "  target_hid = max(valid_hids)\n",
    "  output = {}\n",
    "  for line in iterate_hist_visits_for_user(user):\n",
    "    hid = line['hid']\n",
    "    if hid < target_hid:\n",
    "      continue\n",
    "    data = line['data']\n",
    "    for k,v in data.viewitems():\n",
    "      output[k] = v\n",
    "  return output\n"
   ]
  },
  {
   "cell_type": "code",
   "execution_count": 9,
   "metadata": {
    "collapsed": false
   },
   "outputs": [],
   "source": [
    "\n",
    "@memoized\n",
    "def get_survey_results_by_user():\n",
    "  output = {}\n",
    "  for line in get_survey_results():\n",
    "    if 'id' not in line:\n",
    "      continue\n",
    "    username = line['id']\n",
    "    output[username] = line\n",
    "  return output\n",
    "\n",
    "def get_survey_results_for_user(user):\n",
    "  return get_survey_results_by_user()[user]\n",
    "\n",
    "@msgpackmemoized\n",
    "def list_users():\n",
    "  history_pages_by_user = get_user_to_hist_pages()\n",
    "  history_visits_by_user = get_user_to_hist_visits()\n",
    "  survey_results_by_user = get_survey_results_by_user()\n",
    "  users = survey_results_by_user.keys()\n",
    "  return [x for x in users if x in history_pages_by_user and x in history_visits_by_user]\n",
    "\n",
    "@memoized\n",
    "def get_results_by_user():\n",
    "  fields = {\n",
    "    'history_pages': get_history_pages_for_user,\n",
    "    'history_visits': get_history_visits_for_user,\n",
    "    'survey_results': get_survey_results_for_user\n",
    "  }\n",
    "  output = {}\n",
    "  for user in list_users():\n",
    "    output[user] = {k: v(user) for k,v in fields.viewitems()}\n",
    "  return output\n"
   ]
  },
  {
   "cell_type": "code",
   "execution_count": 10,
   "metadata": {
    "collapsed": true
   },
   "outputs": [],
   "source": [
    "def url_to_domain(url):\n",
    "  return urlparse.urlparse(url).netloc\n",
    "\n",
    "def print_counter(counter, **kwargs):\n",
    "  num = kwargs.get('num', 100)\n",
    "  keys_and_values = [{'key': k, 'val': v} for k,v in counter.viewitems()]\n",
    "  keys_and_values.sort(key=itemgetter('val'), reverse=True)\n",
    "  for item in keys_and_values[:num]:\n",
    "    print item['key'], item['val']\n",
    "\n",
    "def print_yaml(val):\n",
    "  print yaml.safe_dump(val)"
   ]
  },
  {
   "cell_type": "code",
   "execution_count": 11,
   "metadata": {
    "collapsed": true
   },
   "outputs": [],
   "source": [
    "def compute_per_user(func):\n",
    "  output = {}\n",
    "  results_by_user = get_results_by_user()\n",
    "  for user in list_users():\n",
    "    output[user] = func(user)\n",
    "  return output\n",
    "\n",
    "@leveldbmemoized\n",
    "def get_history_ordered_visits_for_user(user):\n",
    "  url_to_visits = get_history_visits_for_user(user)\n",
    "  ordered_visits = []\n",
    "  for url,visits in url_to_visits.viewitems():\n",
    "    for visit in visits:\n",
    "      visit['url'] = url\n",
    "    ordered_visits.extend(visits)\n",
    "  ordered_visits.sort(key=itemgetter('visitTime'))\n",
    "  return ordered_visits\n",
    "\n",
    "@leveldbmemoized\n",
    "def get_domain_to_num_history_visits_for_user(user):\n",
    "  output = Counter()\n",
    "  for url,visits in get_history_visits_for_user(user).viewitems():\n",
    "    domain = url_to_domain(url)\n",
    "    output[domain] += len(visits)\n",
    "  return output"
   ]
  },
  {
   "cell_type": "code",
   "execution_count": 12,
   "metadata": {
    "collapsed": false
   },
   "outputs": [],
   "source": [
    "@leveldbmemoized\n",
    "def get_reconstructed_focus_times_for_user(user):\n",
    "  ordered_visits = get_history_ordered_visits_for_user(user)\n",
    "  reconstructor = ReconstructFocusTimesBaseline()\n",
    "  for visit in ordered_visits:\n",
    "    reconstructor.process_history_line(visit)\n",
    "  return reconstructor.get_output()\n",
    "\n",
    "@leveldbmemoized\n",
    "def get_milliseconds_spent_on_domains_for_user(user):\n",
    "  domain_to_timespent = Counter()\n",
    "  for span in get_reconstructed_focus_times_for_user(user):\n",
    "    url = span['url']\n",
    "    domain = url_to_domain(url)\n",
    "    duration = span['end'] - span['start']\n",
    "    domain_to_timespent[domain] += duration\n",
    "  return domain_to_timespent\n",
    "\n",
    "@leveldbmemoized\n",
    "def get_hours_spent_on_domains_for_user(user):\n",
    "  return {k:v/(1000.0*3600) for k,v in get_milliseconds_spent_on_domains_for_user(user).items()}\n",
    "\n",
    "@leveldbmemoized\n",
    "def get_hours_spent_online_for_user(user):\n",
    "  return sum(get_hours_spent_on_domains_for_user(user).values())\n"
   ]
  },
  {
   "cell_type": "code",
   "execution_count": 13,
   "metadata": {
    "collapsed": true
   },
   "outputs": [],
   "source": [
    "@memoized\n",
    "def get_domain_to_category():\n",
    "  return msgpack.load(open('rescuetime_categories/domain_to_category.msgpack'))\n",
    "\n",
    "@memoized\n",
    "def get_domain_to_productivity():\n",
    "  return msgpack.load(open('rescuetime_categories/domain_to_productivity.msgpack'))\n",
    "\n",
    "def domain_to_category(domain):\n",
    "  return get_domain_to_category().get(domain, 'Uncategorized')\n",
    "\n",
    "def domain_to_productivity(domain):\n",
    "  return get_domain_to_productivity().get(domain, 0)\n"
   ]
  },
  {
   "cell_type": "code",
   "execution_count": 14,
   "metadata": {
    "collapsed": true
   },
   "outputs": [],
   "source": [
    "def get_hours_spent_on_domain_category_for_user(user):\n",
    "  output = Counter()\n",
    "  for domain,hours in get_hours_spent_on_domains_for_user(user).items():\n",
    "    category = domain_to_category(domain)\n",
    "    output[category] += hours\n",
    "  return output\n",
    "\n",
    "def get_hours_spent_on_domain_productivity_for_user(user):\n",
    "  output = Counter()\n",
    "  for domain,hours in get_hours_spent_on_domains_for_user(user).items():\n",
    "    productivity = domain_to_productivity(domain)\n",
    "    output[productivity] += hours\n",
    "  return output\n"
   ]
  }
 ],
 "metadata": {
  "kernelspec": {
   "display_name": "Python 2",
   "language": "python",
   "name": "python2"
  },
  "language_info": {
   "codemirror_mode": {
    "name": "ipython",
    "version": 2
   },
   "file_extension": ".py",
   "mimetype": "text/x-python",
   "name": "python",
   "nbconvert_exporter": "python",
   "pygments_lexer": "ipython2",
   "version": "2.7.11"
  }
 },
 "nbformat": 4,
 "nbformat_minor": 0
}
