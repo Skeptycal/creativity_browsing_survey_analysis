{
 "cells": [
  {
   "cell_type": "code",
   "execution_count": 1,
   "metadata": {
    "collapsed": false
   },
   "outputs": [
    {
     "data": {
      "text/plain": [
       "0"
      ]
     },
     "execution_count": 1,
     "metadata": {},
     "output_type": "execute_result"
    }
   ],
   "source": [
    "# noexport\n",
    "\n",
    "import os\n",
    "os.system('export_notebook analysis_base.ipynb')"
   ]
  },
  {
   "cell_type": "code",
   "execution_count": 2,
   "metadata": {
    "collapsed": false
   },
   "outputs": [],
   "source": [
    "import urlparse\n",
    "from glob import glob\n",
    "import os\n",
    "from os import path\n",
    "\n",
    "from memoized import memoized\n",
    "import numpy\n",
    "\n",
    "try:\n",
    "  import ujson as json\n",
    "except:\n",
    "  import json\n",
    "\n",
    "from collections import Counter\n",
    "from operator import itemgetter\n",
    "\n",
    "import pyximport\n",
    "pyximport.install(setup_args={\"include_dirs\":numpy.get_include()})\n",
    "from decompress_lzstring_base64_cython import decompressFromBase64"
   ]
  },
  {
   "cell_type": "code",
   "execution_count": 3,
   "metadata": {
    "collapsed": true
   },
   "outputs": [],
   "source": [
    "tmi_overrides = {\n",
    "  'basedir': None,\n",
    "}\n",
    "\n",
    "@memoized\n",
    "def get_basedir():\n",
    "  if tmi_overrides['basedir'] != None:\n",
    "    return tmi_overrides['basedir']\n",
    "  pathbase = path.dirname(path.realpath('__file__'))\n",
    "  output = [x for x in glob(pathbase + '/browsingsurvey_*')]\n",
    "  output.sort(reverse=True)\n",
    "  return output[0]\n",
    "\n",
    "def get_basedir_file(filename):\n",
    "  return get_basedir() + '/' + filename\n",
    "\n",
    "def jsonload_basedir_file(filename):\n",
    "  return json.load(open(get_basedir_file(filename)))\n"
   ]
  },
  {
   "cell_type": "code",
   "execution_count": 4,
   "metadata": {
    "collapsed": true
   },
   "outputs": [],
   "source": [
    "def decompress_data_lzstring_base64(data):\n",
    "  data_type = type(data)\n",
    "  if data_type == unicode or data_type == str:\n",
    "    return json.loads(decompressFromBase64(data))\n",
    "  return data\n",
    "\n",
    "def uncompress_data_subfields(x):\n",
    "  if 'windows' in x:\n",
    "    data_type = type(x['windows'])\n",
    "    if data_type == unicode or data_type == str:\n",
    "      x['windows'] = json.loads(decompressFromBase64(x['windows']))\n",
    "  if 'data' in x:\n",
    "    data_type = type(x['data'])\n",
    "    if data_type == unicode or data_type == str:\n",
    "      x['data'] = json.loads(decompressFromBase64(x['data']))\n",
    "  return x\n",
    "\n",
    "@memoized\n",
    "def get_history_pages():\n",
    "  return [uncompress_data_subfields(x) for x in jsonload_basedir_file('history_pages.json')]\n",
    "\n",
    "@memoized\n",
    "def get_history_visits():\n",
    "  return [uncompress_data_subfields(x) for x in jsonload_basedir_file('history_visits.json')]\n",
    "\n",
    "@memoized\n",
    "def get_survey_results():\n",
    "  return jsonload_basedir_file('surveyresults.json')\n",
    "\n",
    "@memoized\n",
    "def get_user_to_hist_pages():\n",
    "  output = {}\n",
    "  for line in get_history_pages():\n",
    "    if 'user' not in line:\n",
    "      continue\n",
    "    user = line['user']\n",
    "    if user not in output:\n",
    "      output[user] = []\n",
    "    output[user].append(line)\n",
    "  return output\n",
    "\n",
    "@memoized\n",
    "def get_user_to_hist_visits():\n",
    "  output = {}\n",
    "  for line in get_history_visits():\n",
    "    if 'user' not in line:\n",
    "      continue\n",
    "    user = line['user']\n",
    "    if user not in output:\n",
    "      output[user] = []\n",
    "    output[user].append(line)\n",
    "  return output\n",
    "\n",
    "def iterate_hist_pages_for_user(user):\n",
    "  return get_user_to_hist_pages()[user]\n",
    "\n",
    "def iterate_hist_visits_for_user(user):\n",
    "  return get_user_to_hist_visits()[user]\n"
   ]
  },
  {
   "cell_type": "code",
   "execution_count": 5,
   "metadata": {
    "collapsed": true
   },
   "outputs": [],
   "source": [
    "@memoized\n",
    "def get_history_valid_hids_for_user(user):\n",
    "  hid_with_history_pages = set()\n",
    "  hid_to_totalparts = {}\n",
    "  hid_to_seenparts = {}\n",
    "  hid_with_complete_history_visits = set()\n",
    "  for line in iterate_hist_pages_for_user(user):\n",
    "    hid = line['hid']\n",
    "    hid_with_history_pages.add(hid)\n",
    "  for line in iterate_hist_visits_for_user(user):\n",
    "    hid = line['hid']\n",
    "    totalparts = line['totalparts']\n",
    "    idx = line['idx']\n",
    "    if totalparts < 1:\n",
    "      raise 'have totalparts value less than one of ' + str(totalparts) + ' for user ' + user\n",
    "    if hid not in hid_to_totalparts:\n",
    "      hid_to_totalparts[hid] = totalparts\n",
    "    else:\n",
    "      if hid_to_totalparts[hid] != totalparts:\n",
    "        raise 'inconsistent totalparts for user ' + user + ' on hid ' + str(hid) + ' with values ' + str(totalparts) + ' and ' + str(hid_to_totalparts[hid])\n",
    "    if hid not in hid_to_seenparts:\n",
    "      hid_to_seenparts[hid] = set()\n",
    "    hid_to_seenparts[hid].add(idx)\n",
    "    num_parts_seen_so_far = len(hid_to_seenparts[hid])\n",
    "    if num_parts_seen_so_far > totalparts:\n",
    "      raise 'num parts seen so far ' + str(num_parts_seen_so_far) + ' is greater than totalparts ' + str(totalparts) + ' for user ' + user\n",
    "    if num_parts_seen_so_far == totalparts:\n",
    "      hid_with_complete_history_visits.add(hid)\n",
    "  output = [hid for hid in hid_with_complete_history_visits if hid in hid_with_history_pages]\n",
    "  output.sort()\n",
    "  return output"
   ]
  },
  {
   "cell_type": "code",
   "execution_count": 6,
   "metadata": {
    "collapsed": true
   },
   "outputs": [],
   "source": [
    "@memoized\n",
    "def get_history_pages_for_user(user):\n",
    "  valid_hids = get_history_valid_hids_for_user(user)\n",
    "  if len(valid_hids) == 0:\n",
    "    return []\n",
    "  target_hid = max(valid_hids)\n",
    "  for line in iterate_hist_pages_for_user(user):\n",
    "    hid = line['hid']\n",
    "    if hid != target_hid:\n",
    "      continue\n",
    "    data = line['data']\n",
    "    return data\n",
    "  return []\n",
    "\n",
    "@memoized\n",
    "def get_history_visits_for_user(user):\n",
    "  valid_hids = get_history_valid_hids_for_user(user)\n",
    "  if len(valid_hids) == 0:\n",
    "    return {}\n",
    "  target_hid = max(valid_hids)\n",
    "  output = {}\n",
    "  for line in iterate_hist_visits_for_user(user):\n",
    "    hid = line['hid']\n",
    "    if hid < target_hid:\n",
    "      continue\n",
    "    data = line['data']\n",
    "    for k,v in data.viewitems():\n",
    "      output[k] = v\n",
    "  return output\n"
   ]
  },
  {
   "cell_type": "code",
   "execution_count": 7,
   "metadata": {
    "collapsed": false
   },
   "outputs": [],
   "source": [
    "\n",
    "@memoized\n",
    "def get_survey_results_by_user():\n",
    "  output = {}\n",
    "  for line in get_survey_results():\n",
    "    if 'id' not in line:\n",
    "      continue\n",
    "    username = line['id']\n",
    "    output[username] = line\n",
    "  return output\n",
    "\n",
    "def get_survey_results_for_user(user):\n",
    "  return get_survey_results_by_user()[user]\n",
    "\n",
    "@memoized\n",
    "def list_users():\n",
    "  history_pages_by_user = get_user_to_hist_pages()\n",
    "  history_visits_by_user = get_user_to_hist_visits()\n",
    "  survey_results_by_user = get_survey_results_by_user()\n",
    "  users = survey_results_by_user.keys()\n",
    "  return [x for x in users if x in history_pages_by_user and x in history_visits_by_user]\n",
    "\n",
    "@memoized\n",
    "def get_results_by_user():\n",
    "  fields = {\n",
    "    'history_pages': get_history_pages_for_user,\n",
    "    'history_visits': get_history_visits_for_user,\n",
    "    'survey_results': get_survey_results_for_user\n",
    "  }\n",
    "  output = {}\n",
    "  for user in list_users():\n",
    "    output[user] = {k: v(user) for k,v in fields.viewitems()}\n",
    "  return output\n"
   ]
  },
  {
   "cell_type": "code",
   "execution_count": 8,
   "metadata": {
    "collapsed": true
   },
   "outputs": [],
   "source": [
    "def url_to_domain(url):\n",
    "  return urlparse.urlparse(url).netloc\n",
    "\n",
    "def print_counter(counter, **kwargs):\n",
    "  num = kwargs.get('num', 100)\n",
    "  keys_and_values = [{'key': k, 'val': v} for k,v in counter.viewitems()]\n",
    "  keys_and_values.sort(key=itemgetter('val'), reverse=True)\n",
    "  for item in keys_and_values[:num]:\n",
    "    print item['key'], item['val']"
   ]
  },
  {
   "cell_type": "code",
   "execution_count": 9,
   "metadata": {
    "collapsed": true
   },
   "outputs": [],
   "source": [
    "def compute_per_user(func):\n",
    "  output = {}\n",
    "  results_by_user = get_results_by_user()\n",
    "  for user in list_users():\n",
    "    output[user] = func(user)\n",
    "  return output\n",
    "\n",
    "@memoized\n",
    "def get_history_ordered_visits_for_user(user):\n",
    "  url_to_visits = get_history_visits_for_user(user)\n",
    "  ordered_visits = []\n",
    "  for url,visits in url_to_visits.viewitems():\n",
    "    for visit in visits:\n",
    "      visit['url'] = url\n",
    "    ordered_visits.extend(visits)\n",
    "  ordered_visits.sort(key=itemgetter('visitTime'))\n",
    "  return ordered_visits\n",
    "\n",
    "@memoized\n",
    "def get_domain_to_num_history_visits_for_user(user):\n",
    "  output = Counter()\n",
    "  for url,visits in get_history_visits_for_user(user).viewitems():\n",
    "    domain = url_to_domain(url)\n",
    "    output[domain] += len(visits)\n",
    "  return output"
   ]
  },
  {
   "cell_type": "code",
   "execution_count": 10,
   "metadata": {
    "collapsed": false
   },
   "outputs": [
    {
     "name": "stdout",
     "output_type": "stream",
     "text": [
      "[u'jess', u'shivaal']\n"
     ]
    }
   ],
   "source": [
    "print list_users()"
   ]
  },
  {
   "cell_type": "code",
   "execution_count": 11,
   "metadata": {
    "collapsed": false
   },
   "outputs": [],
   "source": [
    "#print get_history_visits_for_user('jess').keys()"
   ]
  },
  {
   "cell_type": "code",
   "execution_count": 12,
   "metadata": {
    "collapsed": false
   },
   "outputs": [],
   "source": [
    "#print get_history_pages()[0].keys()"
   ]
  },
  {
   "cell_type": "code",
   "execution_count": 13,
   "metadata": {
    "collapsed": false
   },
   "outputs": [],
   "source": [
    "#print get_history_visits()[0].keys()"
   ]
  },
  {
   "cell_type": "code",
   "execution_count": 14,
   "metadata": {
    "collapsed": false
   },
   "outputs": [
    {
     "name": "stdout",
     "output_type": "stream",
     "text": [
      "www.facebook.com 16377\n",
      "docs.google.com 9812\n",
      "www.youtube.com 3560\n",
      "www.google.com 2402\n",
      "mail.google.com 2103\n",
      "localhost:8080 1818\n",
      "www.instagram.com 1300\n",
      "localhost:3000 1239\n",
      "web.stanford.edu 390\n",
      "photos.google.com 309\n",
      "calendar.google.com 286\n",
      "www.hulu.com 267\n",
      "www.airbnb.com 255\n",
      "www.linkedin.com 244\n",
      " 217\n",
      "piazza.com 217\n",
      "github.com 210\n",
      "personalityfactors.net 200\n",
      "www.express.com 184\n",
      "orgsync.com 175\n",
      "www.yelp.com 150\n",
      "drive.google.com 138\n",
      "stackoverflow.com 135\n",
      "scholar.google.com 134\n",
      "web.groupme.com 129\n",
      "www.lulus.com 127\n",
      "www.amazon.com 118\n",
      "www.ae.com 114\n",
      "www.pandora.com 111\n",
      "www.missguidedus.com 107\n",
      "www.netflix.com 106\n",
      "www.forever21.com 93\n",
      "gradescope.com 92\n",
      "www.picmonkey.com 87\n",
      "soundcloud.com 82\n",
      "canvas.stanford.edu 76\n",
      "weblogin.stanford.edu 75\n",
      "groupme.com 70\n",
      "axess.sahr.stanford.edu 69\n",
      "en.wikipedia.org 67\n",
      "mvideox.stanford.edu 66\n",
      "localhost:8000 51\n",
      "therighthairstyles.com 49\n",
      "www.w3schools.com 47\n",
      "browsingsurvey.herokuapp.com 46\n",
      "dashboard.heroku.com 45\n",
      "docs.angularjs.org 44\n",
      "www.solarmovie.ph 43\n",
      "secure.bankofamerica.com 42\n",
      "www.applyweb.com 40\n",
      "explorecourses.stanford.edu 36\n",
      "www.buzzfeed.com 32\n",
      "laookkfknpbbblfpciffpaejjkokdgca 31\n",
      "vadenpatient.stanford.edu 30\n",
      "www.theelephantpants.com 28\n",
      "psycnet.apa.org 27\n",
      "shop.nordstrom.com 26\n",
      "sto.stanfordtickets.org 25\n",
      "www.hm.com 24\n",
      "ggpuzzles.appspot.com 24\n",
      "www.wolframalpha.com 23\n",
      "www.cplusplus.com 23\n",
      "onlinelibrary.wiley.com 23\n",
      "www.quora.com 21\n",
      "www.burlingtoncoatfactory.com 19\n",
      "requester.mturk.com 19\n",
      "chrome.google.com 19\n",
      "otakumode.com 18\n",
      "code.facebook.com 18\n",
      "requestersandbox.mturk.com 18\n",
      "www.dafont.com 17\n",
      "www.glassdoor.com 17\n",
      "stanford.joinhandshake.com 17\n",
      "curis.stanford.edu 17\n",
      "accounts.google.com 16\n",
      "sleepy-lowlands-53092.herokuapp.com 15\n",
      "www.bankofamerica.com 15\n",
      "www.urbanoutfitters.com 15\n",
      "www1.macys.com 15\n",
      "www.zara.com 15\n",
      "www.tutorialspoint.com 14\n",
      "www.sciencedirect.com 14\n",
      "us.topshop.com 14\n",
      "www.katespade.com 14\n",
      "vimeo.com 13\n",
      "math.stackexchange.com 13\n",
      "www.mendeley.com 13\n",
      "www.pbh2.com 13\n",
      "sal.stanford.edu 13\n",
      "www.eventbrite.com 11\n",
      "stanfordhcigfx.slack.com 11\n",
      "marketplace.asos.com 11\n",
      "hci.stanford.edu 11\n",
      "www.charlotterusse.com 10\n",
      "www.songkick.com 10\n",
      "www.catalystclub.com 10\n",
      "www.customink.com 10\n",
      "ows01.hireright.com 10\n",
      "us.asos.com 10\n",
      "www.prizelabs.com 9\n"
     ]
    }
   ],
   "source": [
    "print_counter(get_domain_to_num_history_visits_for_user('jess'))"
   ]
  },
  {
   "cell_type": "code",
   "execution_count": 15,
   "metadata": {
    "collapsed": false
   },
   "outputs": [],
   "source": [
    "#print iterate_hist_pages_for_user('jess').keys()"
   ]
  },
  {
   "cell_type": "code",
   "execution_count": 16,
   "metadata": {
    "collapsed": false
   },
   "outputs": [
    {
     "name": "stdout",
     "output_type": "stream",
     "text": [
      "docs.google.com 19582\n",
      "www.google.com 5599\n",
      "www.facebook.com 5456\n",
      "www.messenger.com 2666\n",
      "web.stanford.edu 2176\n",
      "drive.google.com 1484\n",
      "www.youtube.com 1304\n",
      "localhost:3000 1233\n",
      "piazza.com 1038\n",
      "mail.google.com 880\n",
      "github.com 733\n",
      "i.imgur.com 694\n",
      " 689\n",
      "www.amazon.com 441\n",
      "canvas.stanford.edu 395\n",
      "developers.google.com 390\n",
      "imgur.com 388\n",
      "www.reddit.com 363\n",
      "stackoverflow.com 297\n",
      "m.facebook.com 272\n",
      "keep.google.com 252\n",
      "localhost:8000 186\n",
      "explorecourses.stanford.edu 162\n",
      "weblogin.stanford.edu 160\n",
      "app.asana.com 160\n",
      "gradescope.com 154\n",
      "www.bibme.org 147\n",
      "www.netflix.com 143\n",
      "en.wikipedia.org 143\n",
      "www.instagram.com 127\n",
      "www.glassdoor.com 126\n",
      "www.yikyak.com 120\n",
      "secure.bankofamerica.com 118\n",
      "www.linkedin.com 116\n",
      "materializecss.com 108\n",
      "calendar.google.com 106\n",
      "www.applyweb.com 101\n",
      "axess.sahr.stanford.edu 95\n",
      "console.developers.google.com 91\n",
      "www.rescuetime.com 90\n",
      "mvideox.stanford.edu 87\n",
      "25live.collegenet.com 86\n",
      "quip.com 85\n",
      "www.twilio.com 83\n",
      "devpost.com 81\n",
      "www.treehacks.com 80\n",
      "xsearch.stanford.edu 79\n",
      "us11.admin.mailchimp.com 74\n",
      "soundcloud.com 71\n",
      "bases.stanford.edu 69\n",
      "www.w3schools.com 68\n",
      "talkgadget.google.com 68\n",
      "www.goodreads.com 65\n",
      "www.sharelatex.com 60\n",
      "admin.typeform.com 60\n",
      "plus.google.com 58\n",
      "sto.stanfordtickets.org 51\n",
      "hangouts.google.com 49\n",
      "docs.python.org 49\n",
      "semantic-ui.com 47\n",
      "www.sublet.com 46\n",
      "edacconmaakjimmfgnblocblbcdcpbko 45\n",
      "xkcd.com 41\n",
      "en.cppreference.com 41\n",
      "newyork.craigslist.org 40\n",
      "l.facebook.com 38\n",
      "contacts.google.com 38\n",
      "getpocket.com 36\n",
      "myhealth.stanfordhealthcare.org 35\n",
      "med.stanford.edu 34\n",
      "www.when2meet.com 34\n",
      "slack-files.com 34\n",
      "localhost:8800 33\n",
      "www.ipledgeprogram.com 33\n",
      "twitter.com 33\n",
      "yikyak.com 32\n",
      "idp.stanford.edu 32\n",
      "ocha.facilities.columbia.edu 31\n",
      "preassignment.stanford.edu 31\n",
      "mailman.stanford.edu 30\n",
      "developer.uber.com 30\n",
      "assu.herokuapp.com 30\n",
      "www.arduino.cc 29\n",
      "www.cplusplus.com 28\n",
      "coursecycle.com 28\n",
      "www.bankofamerica.com 28\n",
      "www.tutorialspoint.com 27\n",
      "www.practicefusion.com 27\n",
      "www.nytimes.com 27\n",
      "search.proquest.com 26\n",
      "accounts.google.com 26\n",
      "laookkfknpbbblfpciffpaejjkokdgca 25\n",
      "camtechmgh.org 25\n",
      "21.co 25\n",
      "www.irs.gov 24\n",
      "proquest.safaribooksonline.com 24\n",
      "localhost:8888 24\n",
      "well-spring.weebly.com 24\n",
      "www.cdc.gov 24\n",
      "uberestimate.com 24\n"
     ]
    }
   ],
   "source": [
    "print_counter(get_domain_to_num_history_visits_for_user('shivaal'))"
   ]
  }
 ],
 "metadata": {
  "kernelspec": {
   "display_name": "Python 2",
   "language": "python",
   "name": "python2"
  },
  "language_info": {
   "codemirror_mode": {
    "name": "ipython",
    "version": 2
   },
   "file_extension": ".py",
   "mimetype": "text/x-python",
   "name": "python",
   "nbconvert_exporter": "python",
   "pygments_lexer": "ipython2",
   "version": "2.7.11"
  }
 },
 "nbformat": 4,
 "nbformat_minor": 0
}
